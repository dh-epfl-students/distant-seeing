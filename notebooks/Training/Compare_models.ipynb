{
 "cells": [
  {
   "cell_type": "markdown",
   "metadata": {},
   "source": [
    "# Comparing all models with a testing dataset"
   ]
  },
  {
   "cell_type": "code",
   "execution_count": 24,
   "metadata": {},
   "outputs": [],
   "source": [
    "#import dependencies\n",
    "import os\n",
    "import numpy as np\n",
    "import cv2\n",
    "import matplotlib.pyplot as plt\n",
    "from torch.utils.data import DataLoader\n",
    "from torch.utils.data import Dataset as BaseDataset\n",
    "import torch\n",
    "import json\n",
    "import operator\n",
    "from PIL import Image, ImageDraw\n",
    "import albumentations as albu\n",
    "import pickle\n",
    "import pandas as pd\n",
    "from tabulate import tabulate\n",
    "import numpy as np\n",
    "import matplotlib as mpl\n",
    "from scipy.interpolate import make_interp_spline\n",
    "from distinctipy import distinctipy\n",
    "import segmentation_models_pytorch as smp\n",
    "import segmentation_models_pytorch.utils as smpu\n",
    "import random"
   ]
  },
  {
   "cell_type": "code",
   "execution_count": 2,
   "metadata": {},
   "outputs": [],
   "source": [
    "test_file = '/scratch/ndillenb/notebooks/Hand-Segmentation/Hands_dataset/test_data.udt.json'\n",
    "test_img = \"test_set\"\n",
    "    \n",
    "x_hands_data = os.path.join('Hands_dataset',test_file)\n",
    "y_hands_data = os.path.join('Hands_dataset',test_img)\n",
    "\n",
    "all_dataset = '/scratch/ndillenb/extract_skematic/all_images'"
   ]
  },
  {
   "cell_type": "markdown",
   "metadata": {},
   "source": [
    "## Loading data"
   ]
  },
  {
   "cell_type": "code",
   "execution_count": 3,
   "metadata": {},
   "outputs": [],
   "source": [
    "os.environ['CUDA_VISIBLE_DEVICES'] = '0'\n",
    "\n"
   ]
  },
  {
   "cell_type": "code",
   "execution_count": 4,
   "metadata": {},
   "outputs": [],
   "source": [
    "# helper function for data visualization\n",
    "def visualize(**images):\n",
    "    \"\"\"PLot images in one row.\"\"\"\n",
    "    n = len(images)\n",
    "    plt.figure(figsize=(16, 5))\n",
    "    for i, (name, image) in enumerate(images.items()):\n",
    "        plt.subplot(1, n, i + 1)\n",
    "        plt.xticks([])\n",
    "        plt.yticks([])\n",
    "        plt.title(' '.join(name.split('_')).title())\n",
    "        plt.imshow(image)\n",
    "    plt.show()"
   ]
  },
  {
   "cell_type": "markdown",
   "metadata": {},
   "source": [
    "### Dataloader"
   ]
  },
  {
   "cell_type": "code",
   "execution_count": 6,
   "metadata": {},
   "outputs": [],
   "source": [
    "class Dataset(BaseDataset):\n",
    "    CLASSES = ['__background__', 'hand']\n",
    "    def __init__(self, \n",
    "        data_img,\n",
    "        data_file,  \n",
    "        images_dir,\n",
    "        classes=None, \n",
    "        transformation=None, \n",
    "        preprocessing=None,):\n",
    "        \n",
    "        self.root = 'Hands_dataset'\n",
    "        self.folder = images_dir\n",
    "        \n",
    "        self.ids = data_img\n",
    "        self.images_fps = data_img\n",
    "        self.masks_fps = data_file\n",
    "        self.class_values = [self.CLASSES.index(cls.lower()) for cls in classes]\n",
    "        \n",
    "        self.transformation = transformation\n",
    "        self.preprocessing = preprocessing\n",
    "    def __getitem__(self, idx):\n",
    "        # load images and masks\n",
    "        #print('Image : ' + self.images_fps[idx])\n",
    "        img_path = os.path.join(self.root, self.folder, self.images_fps[idx])\n",
    "        img_out = cv2.imread(img_path)\n",
    "        img_out = cv2.cvtColor(img_out, cv2.COLOR_BGR2RGB)\n",
    "        idx_mask = 0\n",
    "        for i in range(len(self.masks_fps)):\n",
    "            if self.masks_fps[i]['imageUrl'].split(\"\\\\\")[-1]==self.images_fps[idx]:\n",
    "                idx_mask = i\n",
    "                break\n",
    "        mask_json = self.masks_fps[idx_mask]\n",
    "        h,w,t = img_out.shape\n",
    "        all_polygon = []\n",
    "        im = Image.new(\"L\", (w,h), 0)\n",
    "        #print('Mask : '+self.masks_fps[idx_mask]['imageUrl'].split(\"\\\\\")[-1])\n",
    "        for shape in mask_json['annotation']:\n",
    "            polygon = tuple()\n",
    "            for point in shape['points']:\n",
    "                new_x = point['x']*w\n",
    "                new_y = point['y']*h\n",
    "                point = tuple([new_x,new_y])\n",
    "                polygon=polygon+point\n",
    "            all_polygon.append(polygon)\n",
    "            ImageDraw.Draw(im).polygon(polygon, outline=1,fill=1)\n",
    "        mask = np.array(im)\n",
    "        mask = mask[...,np.newaxis]\n",
    "        mask = np.stack(mask, axis=0).astype('int')\n",
    "        image = img_out\n",
    "        # apply augmentations\n",
    "        if self.transformation:\n",
    "            sample = self.transformation(image=image, mask=mask)\n",
    "            image, mask = sample['image'], sample['mask']\n",
    "        # apply preprocessing\n",
    "        if self.preprocessing:\n",
    "            sample = self.preprocessing(image=image, mask=mask)\n",
    "            image, mask = sample['image'], sample['mask']\n",
    "        #print('['+str(idx)+'] image shape : ' + str(image.shape))\n",
    "        #print('['+str(idx)+'] mask shape : ' + str(mask.shape))\n",
    "        return image, mask\n",
    "\n",
    "    def __len__(self):\n",
    "        return len(self.ids)"
   ]
  },
  {
   "cell_type": "code",
   "execution_count": 23,
   "metadata": {},
   "outputs": [],
   "source": [
    "#functions to resize the data\n",
    "def get_training_transformation():\n",
    "    train_transform = [\n",
    "        albu.HorizontalFlip(p=0.5),\n",
    "        albu.LongestMaxSize(max_size=160, interpolation=1, always_apply=True, p=1),\n",
    "        albu.PadIfNeeded(min_height=160,min_width=160,always_apply=True, border_mode=1)\n",
    "    ]\n",
    "    return albu.Compose(train_transform)\n",
    "\n",
    "\n",
    "def get_validation_augmentation():\n",
    "    test_transform = [\n",
    "        albu.LongestMaxSize(max_size=160, interpolation=1, always_apply=True, p=1),\n",
    "        albu.PadIfNeeded(min_height=160,min_width=160,always_apply=True, border_mode=1)        \n",
    "    ]\n",
    "    return albu.Compose(test_transform)\n",
    "\n",
    "\n",
    "def to_tensor(x, **kwargs):\n",
    "    return x.transpose(2, 0, 1).astype('float32')\n",
    "\n",
    "\n",
    "def get_preprocessing(preprocessing_fn):\n",
    "    _transform = [\n",
    "        albu.Lambda(image=preprocessing_fn),\n",
    "        albu.Lambda(image=to_tensor, mask=to_tensor),\n",
    "    ]\n",
    "    return albu.Compose(_transform)"
   ]
  },
  {
   "cell_type": "code",
   "execution_count": 9,
   "metadata": {},
   "outputs": [],
   "source": [
    "os.environ['CUDA_VISIBLE_DEVICES'] = '0'\n",
    "ENCODER = 'resnext101_32x8d'\n",
    "ENCODER_WEIGHTS = 'instagram'\n",
    "CLASSES = ['hand']\n",
    "ACTIVATION = 'sigmoid' # could be None for logits or 'softmax2d' for multiclass segmentation\n",
    "DEVICE = 'cuda'\n",
    "preprocessing_fn = smp.encoders.get_preprocessing_fn(ENCODER, ENCODER_WEIGHTS)"
   ]
  },
  {
   "cell_type": "code",
   "execution_count": 10,
   "metadata": {},
   "outputs": [],
   "source": [
    "def apply_permutation(list1, list2):\n",
    "    indices = list(range(len(list1)))  # Generate a list of indices\n",
    "    random.shuffle(indices)  # Shuffle the indices randomly\n",
    "    \n",
    "    permuted_list1 = [list1[i] for i in indices]  # Apply permutation to list1\n",
    "    permuted_list2 = [list2[i] for i in indices]  # Apply permutation to list2\n",
    "    \n",
    "    return permuted_list1, permuted_list2"
   ]
  },
  {
   "cell_type": "code",
   "execution_count": 12,
   "metadata": {},
   "outputs": [],
   "source": [
    "hands_data_mask = json.load(open(x_hands_data))\n",
    "hands_data_mask = list(sorted(hands_data_mask['samples'],  key=operator.itemgetter('imageUrl')))\n",
    "hands_data_img = list(sorted(os.listdir(y_hands_data)))\n",
    "hands_data_mask, hands_data_img = apply_permutation(hands_data_mask,hands_data_img)\n",
    "\n",
    "test_mask = hands_data_mask[0:len(hands_data_mask)]\n",
    "test_img = hands_data_img[0:len(hands_data_img)]\n",
    "test_mask, test_img = apply_permutation(test_mask,test_img)"
   ]
  },
  {
   "cell_type": "code",
   "execution_count": 13,
   "metadata": {
    "scrolled": true
   },
   "outputs": [],
   "source": [
    "test_dataset = Dataset(\n",
    "    test_img, \n",
    "    test_mask, \n",
    "    all_dataset,\n",
    "    transformation=get_training_transformation(), \n",
    "    preprocessing=get_preprocessing(preprocessing_fn),\n",
    "    classes=CLASSES,\n",
    ")\n",
    "test_loader = DataLoader(test_dataset, batch_size=1,shuffle=False, num_workers=1)"
   ]
  },
  {
   "cell_type": "markdown",
   "metadata": {},
   "source": [
    "# Test all models"
   ]
  },
  {
   "cell_type": "code",
   "execution_count": 14,
   "metadata": {},
   "outputs": [],
   "source": [
    "objects = []\n",
    "path = '/scratch/ndillenb/trained_model_saved/' #Path of every saved models"
   ]
  },
  {
   "cell_type": "code",
   "execution_count": 15,
   "metadata": {},
   "outputs": [],
   "source": [
    "def get_pref_array(model,test_dataset): #return y_pref and y\n",
    "    predictions_arrays = []\n",
    "    labels_array = []\n",
    "    b_model = torch.load(model)\n",
    "    for i in range(len(test_dataset)):\n",
    "        label = test_dataset[i][1]\n",
    "        image = test_dataset[i][0]\n",
    "        x_tensor = torch.from_numpy(image).to(DEVICE).unsqueeze(0)\n",
    "        prediction = b_model.predict(x_tensor)\n",
    "        prediction = (prediction.squeeze().cpu().numpy())\n",
    "        predictions_arrays.append(prediction)\n",
    "        labels_array.append(label)\n",
    "    del b_model\n",
    "    return predictions_arrays, labels_array\n",
    "\n",
    "def get_scores(predictions_arrays_stacked_tensor,labels_array_stacked_tensor,THRESHOLD): #compute scores\n",
    "    tp, fp, fn, tn = smp.metrics.get_stats(predictions_arrays_stacked_tensor, labels_array_stacked_tensor, mode='binary', threshold=THRESHOLD)\n",
    "    iou_score_micro = smp.metrics.iou_score(tp, fp, fn, tn, reduction=\"micro\").item()\n",
    "    iou_score_micro_iw = smp.metrics.iou_score(tp, fp, fn, tn, reduction=\"micro-imagewise\").item()\n",
    "    f1_score_micro = smp.metrics.f1_score(tp, fp, fn, tn, reduction=\"micro\").item()\n",
    "    f1_score_micro_iw = smp.metrics.f1_score(tp, fp, fn, tn, reduction=\"micro-imagewise\").item()\n",
    "    f2_score_micro = smp.metrics.fbeta_score(tp, fp, fn, tn, beta=2, reduction=\"micro\").item()\n",
    "    f2_score_micro_iw = smp.metrics.fbeta_score(tp, fp, fn, tn, beta=2, reduction=\"micro-imagewise\").item()\n",
    "    f3_score_micro = smp.metrics.fbeta_score(tp, fp, fn, tn, beta=3, reduction=\"micro\").item()\n",
    "    f3_score_micro_iw = smp.metrics.fbeta_score(tp, fp, fn, tn, beta=3, reduction=\"micro-imagewise\").item()\n",
    "    f4_score_micro = smp.metrics.fbeta_score(tp, fp, fn, tn, beta=4, reduction=\"micro\").item()\n",
    "    f4_score_micro_iw = smp.metrics.fbeta_score(tp, fp, fn, tn, beta=4, reduction=\"micro-imagewise\").item()\n",
    "    f5_score_micro = smp.metrics.fbeta_score(tp, fp, fn, tn, beta=5, reduction=\"micro\").item()\n",
    "    f5_score_micro_iw = smp.metrics.fbeta_score(tp, fp, fn, tn, beta=5, reduction=\"micro-imagewise\").item()\n",
    "    f6_score_micro = smp.metrics.fbeta_score(tp, fp, fn, tn, beta=6, reduction=\"micro\").item()\n",
    "    f6_score_micro_iw = smp.metrics.fbeta_score(tp, fp, fn, tn, beta=6, reduction=\"micro-imagewise\").item()\n",
    "    accuracy_micro = smp.metrics.accuracy(tp, fp, fn, tn, reduction=\"micro\").item()\n",
    "    accuracy_micro_iw = smp.metrics.accuracy(tp, fp, fn, tn, reduction=\"micro-imagewise\").item()\n",
    "    recall_micro = smp.metrics.recall(tp, fp, fn, tn, reduction=\"micro\").item()\n",
    "    recall_micro_iw = smp.metrics.recall(tp, fp, fn, tn, reduction=\"micro-imagewise\").item()\n",
    "    precision_micro = smp.metrics.precision(tp, fp, fn, tn, reduction=\"micro\").item()\n",
    "    precision_micro_iw = smp.metrics.precision(tp, fp, fn, tn, reduction=\"micro-imagewise\").item()\n",
    "    fpr_micro = smp.metrics.false_positive_rate(tp, fp, fn, tn, reduction=\"micro\").item()\n",
    "    fpr_micro_iw =smp.metrics.false_positive_rate(tp, fp, fn, tn,reduction=\"micro-imagewise\").item()#, reduction=\"micro-imagewise\"))\n",
    "    recall_iw = smp.metrics.recall(tp, fp, fn, tn,reduction=\"micro-imagewise\").item()\n",
    "    return {'iou_micro': iou_score_micro, 'iou_micro_iw': iou_score_micro_iw, 'f1_score_micro': f1_score_micro, 'f1_score_micro_iw':f1_score_micro_iw,'f2_score_micro':f2_score_micro,'f2_score_micro_iw':f2_score_micro_iw,'f3_score_micro':f3_score_micro,'f3_score_micro_iw':f3_score_micro_iw,'f4_score_micro':f4_score_micro,'f4_score_micro_iw':f4_score_micro_iw,'f5_score_micro':f5_score_micro,'f5_score_micro_iw':f5_score_micro_iw,'f6_score_micro':f6_score_micro,'f6_score_micro_iw':f6_score_micro_iw,'accuracy_micro':accuracy_micro,'accuracy_micro_iw':accuracy_micro_iw,'recall_micro':recall_micro,'recall_micro_iw':recall_micro_iw,'precision_micro':precision_micro,'precision_micro_iw':precision_micro_iw,'fpr_micro':fpr_micro,'fpr_micro_iw':fpr_micro_iw}\n"
   ]
  },
  {
   "cell_type": "code",
   "execution_count": null,
   "metadata": {},
   "outputs": [],
   "source": [
    "import matplotlib.colors as mcolors\n",
    "name_model = []\n",
    "all_scores = []\n",
    "loss = []\n",
    "loss2 = []\n",
    "last_date = []\n",
    "\n",
    "for root, dirs, files in os.walk(path):\n",
    "    for name in files:\n",
    "        if name == 'validation_logs.pickle':\n",
    "            print(root)\n",
    "            if 'BINARY' in root:\n",
    "                break\n",
    "            if os.path.exists(os.path.join(root,'best_model.pth')):\n",
    "                predictions_arrays, labels_array = get_pref_array(os.path.join(root,'best_model.pth'),test_dataset)\n",
    "                last_date.append(os.path.getmtime(os.path.join(root,'best_model.pth')))\n",
    "            else:\n",
    "                predictions_arrays, labels_array = get_pref_array(os.path.join(root,'model.pth'),test_dataset)\n",
    "                last_date.append(os.path.getmtime(os.path.join(root,'model.pth')))\n",
    "            labels_array_stacked_tensor = torch.from_numpy(np.stack(labels_array, axis=0)).to(torch.int32)\n",
    "            predictions_arrays_stacked_tensor = torch.from_numpy(np.stack(np.expand_dims(predictions_arrays, axis=1), axis=0))\n",
    "            all_scores.append(get_scores(predictions_arrays_stacked_tensor,labels_array_stacked_tensor,0.9))\n",
    "            path1 = root\n",
    "            info = []\n",
    "            for i in range(6):\n",
    "                split_path = os.path.split(path1)\n",
    "                path1 = split_path[0]\n",
    "                info.append(split_path[1])\n",
    "            name_model.append(info)"
   ]
  },
  {
   "cell_type": "code",
   "execution_count": 17,
   "metadata": {},
   "outputs": [],
   "source": [
    "#save metrics as this can be a time consuming process\n",
    "data = {'name_model': name_model, 'all_scores': all_scores}\n",
    "with open('metrics_all_stats_4.pickle', 'wb') as handle:\n",
    "    pickle.dump(data, handle, protocol=pickle.HIGHEST_PROTOCOL)"
   ]
  },
  {
   "cell_type": "code",
   "execution_count": 18,
   "metadata": {},
   "outputs": [],
   "source": [
    "dataset = ['hands_only', 'smaller_dataset','half_data','all_data','all_data+hands_only','smaller_dataset+all_data','half_split_test_val_distribution','half_split_test_val_distribution(50-3-3)-(80-10-10)','half_split_test_val_distribution(33-3-3)-(80-10-10)','half_split_test_val_distribution(10-3-3)-(80-10-10)','half_split_test_val_distribution(70-3-3)-(80-10-10)']\n",
    "cmap = plt.get_cmap('tab10')\n",
    "color = [mcolors.to_hex(cmap(i)) for i in np.linspace(0, 1, len(dataset))]\n",
    "colors = []\n",
    "x = range(len(name_model))\n",
    "Architecture = []\n",
    "Encoder = []\n",
    "Encoder_weight = []\n",
    "Loss = []\n",
    "Dataset = []\n",
    "Comment = []\n",
    "Date = []\n",
    "for i in x:\n",
    "    Comment.append(name_model[i][0])\n",
    "    Dataset.append(name_model[i][1])\n",
    "    colors.append(color[dataset.index(name_model[i][1])])\n",
    "    Loss.append(name_model[i][2])\n",
    "    Encoder_weight.append(name_model[i][3])\n",
    "    Encoder.append(name_model[i][4])\n",
    "    Architecture.append(name_model[i][5])\n",
    "    Date.append(last_date[i])"
   ]
  },
  {
   "cell_type": "code",
   "execution_count": 25,
   "metadata": {
    "scrolled": false
   },
   "outputs": [
    {
     "data": {
      "text/html": [
       "<div>\n",
       "<style scoped>\n",
       "    .dataframe tbody tr th:only-of-type {\n",
       "        vertical-align: middle;\n",
       "    }\n",
       "\n",
       "    .dataframe tbody tr th {\n",
       "        vertical-align: top;\n",
       "    }\n",
       "\n",
       "    .dataframe thead th {\n",
       "        text-align: right;\n",
       "    }\n",
       "</style>\n",
       "<table border=\"1\" class=\"dataframe\">\n",
       "  <thead>\n",
       "    <tr style=\"text-align: right;\">\n",
       "      <th></th>\n",
       "      <th>Architecture</th>\n",
       "      <th>Encoder</th>\n",
       "      <th>Encoder Weight</th>\n",
       "      <th>Loss</th>\n",
       "      <th>Dataset</th>\n",
       "      <th>Comment</th>\n",
       "      <th>iou</th>\n",
       "      <th>iou_iw</th>\n",
       "      <th>f1</th>\n",
       "      <th>f1_iw</th>\n",
       "      <th>...</th>\n",
       "      <th>f2_iw</th>\n",
       "      <th>accuracy</th>\n",
       "      <th>accuracy_iw</th>\n",
       "      <th>recall</th>\n",
       "      <th>recall_iw</th>\n",
       "      <th>precision</th>\n",
       "      <th>precision_iw</th>\n",
       "      <th>fpr</th>\n",
       "      <th>fpr_iw</th>\n",
       "      <th>date</th>\n",
       "    </tr>\n",
       "  </thead>\n",
       "  <tbody>\n",
       "    <tr>\n",
       "      <th>0</th>\n",
       "      <td>Unet</td>\n",
       "      <td>resnext101_32x16d</td>\n",
       "      <td>instagram</td>\n",
       "      <td>Diceloss</td>\n",
       "      <td>hands_only</td>\n",
       "      <td>epoch500_lr_4.11E-06</td>\n",
       "      <td>0.278197</td>\n",
       "      <td>0.981041</td>\n",
       "      <td>0.435296</td>\n",
       "      <td>0.448484</td>\n",
       "      <td>...</td>\n",
       "      <td>0.453059</td>\n",
       "      <td>0.999162</td>\n",
       "      <td>0.999162</td>\n",
       "      <td>0.457728</td>\n",
       "      <td>0.989100</td>\n",
       "      <td>0.414960</td>\n",
       "      <td>0.987759</td>\n",
       "      <td>0.000456</td>\n",
       "      <td>0.000475</td>\n",
       "      <td>1.682761e+09</td>\n",
       "    </tr>\n",
       "    <tr>\n",
       "      <th>1</th>\n",
       "      <td>PSPNet</td>\n",
       "      <td>resnext101_32x8d</td>\n",
       "      <td>instagram</td>\n",
       "      <td>Diceloss</td>\n",
       "      <td>hands_only</td>\n",
       "      <td>epoch500_lr_4.11E-06</td>\n",
       "      <td>0.048419</td>\n",
       "      <td>0.875979</td>\n",
       "      <td>0.092365</td>\n",
       "      <td>0.155960</td>\n",
       "      <td>...</td>\n",
       "      <td>0.202415</td>\n",
       "      <td>0.996029</td>\n",
       "      <td>0.996029</td>\n",
       "      <td>0.288286</td>\n",
       "      <td>0.987075</td>\n",
       "      <td>0.054992</td>\n",
       "      <td>0.882109</td>\n",
       "      <td>0.003475</td>\n",
       "      <td>0.003485</td>\n",
       "      <td>1.682928e+09</td>\n",
       "    </tr>\n",
       "  </tbody>\n",
       "</table>\n",
       "<p>2 rows × 21 columns</p>\n",
       "</div>"
      ],
      "text/plain": [
       "  Architecture            Encoder Encoder Weight     Loss      Dataset   \n",
       "0         Unet  resnext101_32x16d      instagram  Diceloss  hands_only  \\\n",
       "1       PSPNet   resnext101_32x8d      instagram  Diceloss  hands_only   \n",
       "\n",
       "                Comment       iou    iou_iw        f1     f1_iw  ...   \n",
       "0  epoch500_lr_4.11E-06  0.278197  0.981041  0.435296  0.448484  ...  \\\n",
       "1  epoch500_lr_4.11E-06  0.048419  0.875979  0.092365  0.155960  ...   \n",
       "\n",
       "      f2_iw  accuracy  accuracy_iw    recall  recall_iw  precision   \n",
       "0  0.453059  0.999162     0.999162  0.457728   0.989100   0.414960  \\\n",
       "1  0.202415  0.996029     0.996029  0.288286   0.987075   0.054992   \n",
       "\n",
       "   precision_iw       fpr    fpr_iw          date  \n",
       "0      0.987759  0.000456  0.000475  1.682761e+09  \n",
       "1      0.882109  0.003475  0.003485  1.682928e+09  \n",
       "\n",
       "[2 rows x 21 columns]"
      ]
     },
     "metadata": {},
     "output_type": "display_data"
    }
   ],
   "source": [
    "cat = list(range(len(name_model)))\n",
    "s = np.zeros((len(list(all_scores[0].values())),len(cat)))\n",
    "for i in range(0,len(cat)):\n",
    "    for j in range(len(list(all_scores[i].values()))):\n",
    "        s[j][i]=list(all_scores[i].values())[j]\n",
    "b = np.transpose(s)\n",
    "def plot_all():#HERE ITS NOT THE SAME INDEX\n",
    "    for i in range(len(list(all_scores[i].values()))):\n",
    "        plt.figure(figsize=(10,6))\n",
    "        plt.bar(cat, s[i])\n",
    "        plt.xticks(cat)\n",
    "        # Adding labels and title\n",
    "        plt.xlabel('Threshold')\n",
    "        plt.ylabel('Value')\n",
    "        plt.ylim((0,1))\n",
    "        plt.title(list(all_scores[0].keys())[i])\n",
    "        # Displaying the plot\n",
    "        plt.show()\n",
    "    return\n",
    "\n",
    "df = pd.DataFrame({\n",
    "    \"Architecture\": Architecture,\n",
    "    \"Encoder\" : Encoder,\n",
    "    \"Encoder Weight\" : Encoder_weight,\n",
    "    \"Loss \" : Loss,\n",
    "    \"Dataset\" : Dataset,\n",
    "    \"Comment\" : Comment,\n",
    "    \"iou\" : s[0],\n",
    "    \"iou_iw\" : s[1],\n",
    "    \"f1\":s[2],\n",
    "    \"f1_iw\":s[4],\n",
    "    \"f2\": s[5],\n",
    "    \"f2_iw\": s[6],\n",
    "    \"accuracy\" : s[14],\n",
    "    \"accuracy_iw\" : s[15],\n",
    "    \"recall\": s[16],\n",
    "    \"recall_iw\" : s[17],\n",
    "    \"precision\": s[18],\n",
    "    \"precision_iw\" : s[19],\n",
    "    \"fpr\": s[20],\n",
    "    \"fpr_iw\": s[21],\n",
    "    \"date\":Date\n",
    "})\n",
    "df.style \\\n",
    "  .format(precision=3, thousands=\".\", decimal=\",\") \\\n",
    "  .format_index(str.upper, axis=1) \n",
    "\n",
    "df_sorted = df.sort_values(by=['date']).reset_index(drop=True)\n",
    "display(df_sorted)"
   ]
  },
  {
   "cell_type": "markdown",
   "metadata": {},
   "source": [
    "# plot subset"
   ]
  },
  {
   "cell_type": "code",
   "execution_count": 26,
   "metadata": {
    "scrolled": false
   },
   "outputs": [
    {
     "data": {
      "image/png": "[encoded data removed]",
      "text/plain": [
       "<Figure size 1000x600 with 1 Axes>"
      ]
     },
     "metadata": {},
     "output_type": "display_data"
    },
    {
     "data": {
      "image/png": "[encoded data removed]",
      "text/plain": [
       "<Figure size 1000x600 with 1 Axes>"
      ]
     },
     "metadata": {},
     "output_type": "display_data"
    },
    {
     "data": {
      "image/png": "[encoded data removed]",
      "text/plain": [
       "<Figure size 1000x600 with 1 Axes>"
      ]
     },
     "metadata": {},
     "output_type": "display_data"
    },
    {
     "data": {
      "image/png": "[encoded data removed]",
      "text/plain": [
       "<Figure size 1000x600 with 1 Axes>"
      ]
     },
     "metadata": {},
     "output_type": "display_data"
    }
   ],
   "source": [
    "models_to_plot = [0,1] #select a few models to compare (with index)\n",
    "label_to_plot='Architecture' #One of the column name to plot\n",
    "cat_a_name = list(map(str, models_to_plot))\n",
    "append_labels = []\n",
    "append_colors = []\n",
    "if label_to_plot!='':\n",
    "    unique = np.unique(df_sorted.loc[models_to_plot][label_to_plot].values)\n",
    "    color_i = distinctipy.get_colors(len(unique))\n",
    "    for item in df_sorted.loc[models_to_plot][label_to_plot].values:\n",
    "        if item in append_labels:\n",
    "            idx = np.where(unique==item)\n",
    "            append_colors.append(color_i[idx[0][0]])\n",
    "            append_labels.append('')\n",
    "        else:\n",
    "            append_labels.append(item)\n",
    "            idx = np.where(unique==item)\n",
    "            append_colors.append(color_i[idx[0][0]])\n",
    "\n",
    "\n",
    "def metric_plot(metric, cat_title,df,models_to_plot,labels,colors):\n",
    "    plt.figure(figsize=(10,6)) \n",
    "    color_i = distinctipy.get_colors(len(np.unique(label_to_plot)))\n",
    "    plt.bar(cat_title, df.loc[models_to_plot][metric].values,color = colors,label=labels)\n",
    "    # Adding labels and title\n",
    "    plt.xlabel('Models')\n",
    "    plt.ylabel('Value')\n",
    "    plt.ylim((0,1))\n",
    "    plt.title(metric + \" score datasetwise\")\n",
    "    # Displaying the plot\n",
    "    plt.legend()\n",
    "    plt.show()\n",
    "    return\n",
    "metric_plot(\"iou\",cat_a_name,df_sorted,models_to_plot,append_labels, append_colors)\n",
    "metric_plot(\"f1\",cat_a_name,df_sorted,models_to_plot,append_labels, append_colors)\n",
    "metric_plot(\"precision\",cat_a_name,df_sorted,models_to_plot,append_labels, append_colors)\n",
    "metric_plot(\"recall\",cat_a_name,df_sorted,models_to_plot,append_labels, append_colors)"
   ]
  },
  {
   "cell_type": "code",
   "execution_count": null,
   "metadata": {},
   "outputs": [],
   "source": []
  }
 ],
 "metadata": {
  "kernelspec": {
   "display_name": "Python [conda env:.conda-hand_seg_nm2]",
   "language": "python",
   "name": "conda-env-.conda-hand_seg_nm2-py"
  },
  "language_info": {
   "codemirror_mode": {
    "name": "ipython",
    "version": 3
   },
   "file_extension": ".py",
   "mimetype": "text/x-python",
   "name": "python",
   "nbconvert_exporter": "python",
   "pygments_lexer": "ipython3",
   "version": "3.10.10"
  }
 },
 "nbformat": 4,
 "nbformat_minor": 4
}
